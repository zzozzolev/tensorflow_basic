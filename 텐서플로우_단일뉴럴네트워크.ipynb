{
 "cells": [
  {
   "cell_type": "markdown",
   "metadata": {},
   "source": [
    "작성자 : 노혜미 박승리 (YBIGTA 10기)"
   ]
  },
  {
   "cell_type": "markdown",
   "metadata": {},
   "source": [
    "출처:\n",
    "https://github.com/hunkim/DeepLearningZeroToAll\n",
    "https://tensorflow.blog/4-%ED%85%90%EC%84%9C%ED%94%8C%EB%A1%9C%EC%9A%B0-%EC%8B%B1%EA%B8%80-%EB%A0%88%EC%9D%B4%EC%96%B4-%EB%89%B4%EB%9F%B4-%EB%84%A4%ED%8A%B8%EC%9B%8C%ED%81%AC-first-contact-with-tensorflow/"
   ]
  },
  {
   "cell_type": "markdown",
   "metadata": {},
   "source": [
    "# 텐서플로우 Single Layer Neural Network"
   ]
  },
  {
   "cell_type": "code",
   "execution_count": 3,
   "metadata": {
    "collapsed": true
   },
   "outputs": [],
   "source": [
    "import tensorflow as tf\n",
    "import pandas as pd\n",
    "import numpy as np"
   ]
  },
  {
   "cell_type": "markdown",
   "metadata": {},
   "source": [
    "실습을 위한 데이터로 MNIST데이터를 사용한다."
   ]
  },
  {
   "cell_type": "markdown",
   "metadata": {},
   "source": [
    "### MNIST data set이란?\n",
    "\n",
    "MNIST 데이터셋은 훈련용 6만개와 테스트용 1만개로 이루어진 손글씨 숫자의 **흑백이미지 데이터**이다. \n",
    "\n",
    "이 흑백 이미지는 가로세로 비율은 그대로 유지하고 20×20 픽셀로 정규화(normalization)되어 있다. \n",
    "\n",
    "정규화 알고리즘(가장 낮은 것에 맞춰 전체 이미지 해상도를 감소시킴)에 사용된 안티알리아싱(anti-aliasing) 처리 때문에 이미지에는 회색 픽셀이 들어 있다. \n",
    "\n",
    "그런 후에 이미지의 중심을 계산하여 **28×28** 픽셀 크기의 프레임 중앙에 위치시켰다. \n",
    "\n",
    "이 데이터셋은 감독 학습(supervised learning)이다. 즉 이미지 데이터에는 어떤 숫자인지를 나타내는 레이블(label) 정보가 들어 있다. \n",
    "\n",
    "학습 과정 동안 학습 모델은 이미지를 입력받아 각 카테고리(0~9)에 대한 점수를 원소로 가지는 벡터 형태의 output을 출력한다. 레이블에 맞는 카테고리가 가장 높은 점수를 가질 수 있도록 학습시킨다.\n",
    "\n",
    "Train data set(Test data set)의 크기는 60000개(10000개)이고, 각각의 data는 28X28 size의 image와 1X10 size의 label을 가진다. "
   ]
  },
  {
   "cell_type": "code",
   "execution_count": 4,
   "metadata": {
    "collapsed": false
   },
   "outputs": [
    {
     "name": "stdout",
     "output_type": "stream",
     "text": [
      "Extracting MNIST_data/train-images-idx3-ubyte.gz\n",
      "Extracting MNIST_data/train-labels-idx1-ubyte.gz\n",
      "Extracting MNIST_data/t10k-images-idx3-ubyte.gz\n",
      "Extracting MNIST_data/t10k-labels-idx1-ubyte.gz\n"
     ]
    }
   ],
   "source": [
    "from tensorflow.examples.tutorials.mnist import input_data\n",
    "mnist = input_data.read_data_sets('MNIST_data/', one_hot = True)"
   ]
  },
  {
   "cell_type": "markdown",
   "metadata": {},
   "source": [
    "![rnn link](https://tensorflowkorea.files.wordpress.com/2016/05/image036-1024x3972x.png?w=768)"
   ]
  },
  {
   "cell_type": "code",
   "execution_count": 3,
   "metadata": {
    "collapsed": false,
    "scrolled": false
   },
   "outputs": [
    {
     "data": {
      "text/plain": [
       "array([ 0.        ,  0.        ,  0.        ,  0.        ,  0.        ,\n",
       "        0.        ,  0.        ,  0.        ,  0.        ,  0.        ,\n",
       "        0.        ,  0.        ,  0.        ,  0.        ,  0.        ,\n",
       "        0.        ,  0.        ,  0.        ,  0.        ,  0.        ,\n",
       "        0.        ,  0.        ,  0.        ,  0.        ,  0.        ,\n",
       "        0.        ,  0.        ,  0.        ,  0.        ,  0.        ,\n",
       "        0.        ,  0.        ,  0.        ,  0.        ,  0.        ,\n",
       "        0.        ,  0.        ,  0.        ,  0.        ,  0.        ,\n",
       "        0.        ,  0.        ,  0.        ,  0.        ,  0.        ,\n",
       "        0.        ,  0.        ,  0.        ,  0.        ,  0.        ,\n",
       "        0.        ,  0.        ,  0.        ,  0.        ,  0.        ,\n",
       "        0.        ,  0.        ,  0.        ,  0.        ,  0.        ,\n",
       "        0.        ,  0.        ,  0.        ,  0.        ,  0.        ,\n",
       "        0.        ,  0.        ,  0.        ,  0.        ,  0.        ,\n",
       "        0.        ,  0.        ,  0.        ,  0.        ,  0.        ,\n",
       "        0.        ,  0.        ,  0.        ,  0.        ,  0.        ,\n",
       "        0.        ,  0.        ,  0.        ,  0.        ,  0.        ,\n",
       "        0.        ,  0.        ,  0.        ,  0.        ,  0.        ,\n",
       "        0.        ,  0.        ,  0.        ,  0.        ,  0.        ,\n",
       "        0.        ,  0.        ,  0.        ,  0.        ,  0.00784314,\n",
       "        0.55686277,  0.98039222,  0.20392159,  0.        ,  0.        ,\n",
       "        0.        ,  0.        ,  0.        ,  0.        ,  0.        ,\n",
       "        0.        ,  0.        ,  0.        ,  0.        ,  0.        ,\n",
       "        0.        ,  0.        ,  0.        ,  0.        ,  0.        ,\n",
       "        0.        ,  0.        ,  0.        ,  0.        ,  0.        ,\n",
       "        0.        ,  0.08627451,  0.59607846,  0.99607849,  0.99607849,\n",
       "        0.33333334,  0.        ,  0.        ,  0.        ,  0.        ,\n",
       "        0.        ,  0.        ,  0.        ,  0.        ,  0.        ,\n",
       "        0.        ,  0.        ,  0.        ,  0.        ,  0.        ,\n",
       "        0.        ,  0.        ,  0.        ,  0.        ,  0.        ,\n",
       "        0.        ,  0.        ,  0.        ,  0.09803922,  0.55686277,\n",
       "        0.99607849,  0.99607849,  0.75686282,  0.11764707,  0.        ,\n",
       "        0.        ,  0.        ,  0.        ,  0.        ,  0.        ,\n",
       "        0.        ,  0.        ,  0.        ,  0.        ,  0.        ,\n",
       "        0.        ,  0.        ,  0.        ,  0.        ,  0.        ,\n",
       "        0.        ,  0.        ,  0.        ,  0.        ,  0.        ,\n",
       "        0.01568628,  0.57647061,  0.99607849,  0.99607849,  0.57647061,\n",
       "        0.02352941,  0.        ,  0.        ,  0.        ,  0.        ,\n",
       "        0.        ,  0.        ,  0.        ,  0.        ,  0.        ,\n",
       "        0.        ,  0.        ,  0.        ,  0.        ,  0.        ,\n",
       "        0.        ,  0.        ,  0.        ,  0.        ,  0.        ,\n",
       "        0.        ,  0.        ,  0.        ,  0.5411765 ,  0.99607849,\n",
       "        0.99607849,  0.59215689,  0.        ,  0.        ,  0.        ,\n",
       "        0.        ,  0.        ,  0.        ,  0.        ,  0.        ,\n",
       "        0.        ,  0.        ,  0.        ,  0.        ,  0.        ,\n",
       "        0.        ,  0.        ,  0.        ,  0.        ,  0.        ,\n",
       "        0.        ,  0.        ,  0.        ,  0.        ,  0.        ,\n",
       "        0.50196081,  0.99215692,  0.99607849,  0.57254905,  0.01960784,\n",
       "        0.        ,  0.        ,  0.        ,  0.        ,  0.        ,\n",
       "        0.        ,  0.        ,  0.        ,  0.        ,  0.        ,\n",
       "        0.        ,  0.        ,  0.        ,  0.        ,  0.        ,\n",
       "        0.        ,  0.        ,  0.        ,  0.        ,  0.        ,\n",
       "        0.        ,  0.        ,  0.21960786,  0.92549026,  0.99607849,\n",
       "        0.59215689,  0.00784314,  0.        ,  0.        ,  0.        ,\n",
       "        0.        ,  0.        ,  0.        ,  0.        ,  0.        ,\n",
       "        0.        ,  0.        ,  0.        ,  0.        ,  0.        ,\n",
       "        0.        ,  0.        ,  0.        ,  0.        ,  0.        ,\n",
       "        0.        ,  0.        ,  0.        ,  0.        ,  0.        ,\n",
       "        0.72549021,  0.99607849,  0.69411767,  0.10588236,  0.        ,\n",
       "        0.        ,  0.        ,  0.        ,  0.        ,  0.        ,\n",
       "        0.        ,  0.        ,  0.        ,  0.        ,  0.        ,\n",
       "        0.        ,  0.        ,  0.        ,  0.        ,  0.        ,\n",
       "        0.        ,  0.        ,  0.        ,  0.        ,  0.        ,\n",
       "        0.        ,  0.        ,  0.        ,  0.90196085,  0.99607849,\n",
       "        0.3019608 ,  0.        ,  0.        ,  0.        ,  0.        ,\n",
       "        0.        ,  0.        ,  0.        ,  0.        ,  0.        ,\n",
       "        0.        ,  0.        ,  0.        ,  0.        ,  0.        ,\n",
       "        0.        ,  0.        ,  0.        ,  0.        ,  0.        ,\n",
       "        0.        ,  0.        ,  0.        ,  0.        ,  0.        ,\n",
       "        0.29411766,  0.99607849,  0.67058825,  0.00392157,  0.        ,\n",
       "        0.        ,  0.        ,  0.        ,  0.        ,  0.        ,\n",
       "        0.        ,  0.        ,  0.        ,  0.        ,  0.        ,\n",
       "        0.        ,  0.        ,  0.        ,  0.        ,  0.        ,\n",
       "        0.        ,  0.        ,  0.        ,  0.        ,  0.        ,\n",
       "        0.        ,  0.        ,  0.        ,  0.61176473,  0.99607849,\n",
       "        0.34901962,  0.        ,  0.        ,  0.        ,  0.        ,\n",
       "        0.        ,  0.        ,  0.        ,  0.00784314,  0.        ,\n",
       "        0.        ,  0.        ,  0.        ,  0.        ,  0.        ,\n",
       "        0.        ,  0.        ,  0.        ,  0.        ,  0.        ,\n",
       "        0.        ,  0.        ,  0.        ,  0.        ,  0.        ,\n",
       "        0.        ,  0.68627453,  0.99607849,  0.27450982,  0.        ,\n",
       "        0.        ,  0.        ,  0.        ,  0.        ,  0.22352943,\n",
       "        0.627451  ,  0.73333335,  0.07058824,  0.        ,  0.        ,\n",
       "        0.        ,  0.        ,  0.        ,  0.        ,  0.        ,\n",
       "        0.        ,  0.        ,  0.        ,  0.        ,  0.        ,\n",
       "        0.        ,  0.        ,  0.        ,  0.06666667,  0.94901967,\n",
       "        0.99607849,  0.27450982,  0.        ,  0.        ,  0.        ,\n",
       "        0.04313726,  0.84313732,  0.97254908,  0.99607849,  0.99607849,\n",
       "        0.62352943,  0.        ,  0.        ,  0.        ,  0.        ,\n",
       "        0.        ,  0.        ,  0.        ,  0.        ,  0.        ,\n",
       "        0.        ,  0.        ,  0.        ,  0.        ,  0.        ,\n",
       "        0.        ,  0.08235294,  0.99607849,  0.99607849,  0.27450982,\n",
       "        0.        ,  0.        ,  0.34901962,  0.80392164,  0.99607849,\n",
       "        0.99607849,  0.99607849,  0.99607849,  0.68235296,  0.        ,\n",
       "        0.        ,  0.        ,  0.        ,  0.        ,  0.        ,\n",
       "        0.        ,  0.        ,  0.        ,  0.        ,  0.        ,\n",
       "        0.        ,  0.        ,  0.        ,  0.        ,  0.04313726,\n",
       "        0.84313732,  0.99607849,  0.27450982,  0.05490196,  0.39607847,\n",
       "        0.99607849,  0.99607849,  0.99607849,  0.99607849,  0.99607849,\n",
       "        0.99607849,  0.64313728,  0.        ,  0.        ,  0.        ,\n",
       "        0.        ,  0.        ,  0.        ,  0.        ,  0.        ,\n",
       "        0.        ,  0.        ,  0.        ,  0.        ,  0.        ,\n",
       "        0.        ,  0.        ,  0.        ,  0.68627453,  0.99607849,\n",
       "        0.7843138 ,  0.86666673,  0.99607849,  0.99607849,  0.99607849,\n",
       "        0.99607849,  0.99607849,  0.99607849,  0.80392164,  0.08627451,\n",
       "        0.        ,  0.        ,  0.        ,  0.        ,  0.        ,\n",
       "        0.        ,  0.        ,  0.        ,  0.        ,  0.        ,\n",
       "        0.        ,  0.        ,  0.        ,  0.        ,  0.        ,\n",
       "        0.        ,  0.28627452,  0.98431379,  0.99607849,  0.99607849,\n",
       "        0.99607849,  0.99607849,  0.99607849,  0.99607849,  0.98823535,\n",
       "        0.59607846,  0.08627451,  0.        ,  0.        ,  0.        ,\n",
       "        0.        ,  0.        ,  0.        ,  0.        ,  0.        ,\n",
       "        0.        ,  0.        ,  0.        ,  0.        ,  0.        ,\n",
       "        0.        ,  0.        ,  0.        ,  0.        ,  0.        ,\n",
       "        0.90196085,  0.99607849,  0.99607849,  0.99607849,  0.99607849,\n",
       "        0.99215692,  0.64313728,  0.29803923,  0.        ,  0.        ,\n",
       "        0.        ,  0.        ,  0.        ,  0.        ,  0.        ,\n",
       "        0.        ,  0.        ,  0.        ,  0.        ,  0.        ,\n",
       "        0.        ,  0.        ,  0.        ,  0.        ,  0.        ,\n",
       "        0.        ,  0.        ,  0.        ,  0.90196085,  0.99607849,\n",
       "        0.61176473,  0.43137258,  0.04313726,  0.03529412,  0.        ,\n",
       "        0.        ,  0.        ,  0.        ,  0.        ,  0.        ,\n",
       "        0.        ,  0.        ,  0.        ,  0.        ,  0.        ,\n",
       "        0.        ,  0.        ,  0.        ,  0.        ,  0.        ,\n",
       "        0.        ,  0.        ,  0.        ,  0.        ,  0.        ,\n",
       "        0.        ,  0.90196085,  0.42745101,  0.01176471,  0.        ,\n",
       "        0.        ,  0.        ,  0.        ,  0.        ,  0.        ,\n",
       "        0.        ,  0.        ,  0.        ,  0.        ,  0.        ,\n",
       "        0.        ,  0.        ,  0.        ,  0.        ,  0.        ,\n",
       "        0.        ,  0.        ,  0.        ,  0.        ,  0.        ,\n",
       "        0.        ,  0.        ,  0.        ,  0.        ,  0.        ,\n",
       "        0.        ,  0.        ,  0.        ,  0.        ,  0.        ,\n",
       "        0.        ,  0.        ,  0.        ,  0.        ,  0.        ,\n",
       "        0.        ,  0.        ,  0.        ,  0.        ,  0.        ,\n",
       "        0.        ,  0.        ,  0.        ,  0.        ,  0.        ,\n",
       "        0.        ,  0.        ,  0.        ,  0.        ,  0.        ,\n",
       "        0.        ,  0.        ,  0.        ,  0.        ,  0.        ,\n",
       "        0.        ,  0.        ,  0.        ,  0.        ,  0.        ,\n",
       "        0.        ,  0.        ,  0.        ,  0.        ,  0.        ,\n",
       "        0.        ,  0.        ,  0.        ,  0.        ,  0.        ,\n",
       "        0.        ,  0.        ,  0.        ,  0.        ,  0.        ,\n",
       "        0.        ,  0.        ,  0.        ,  0.        ,  0.        ,\n",
       "        0.        ,  0.        ,  0.        ,  0.        ,  0.        ,\n",
       "        0.        ,  0.        ,  0.        ,  0.        ,  0.        ,\n",
       "        0.        ,  0.        ,  0.        ,  0.        ,  0.        ,\n",
       "        0.        ,  0.        ,  0.        ,  0.        ,  0.        ,\n",
       "        0.        ,  0.        ,  0.        ,  0.        ,  0.        ,\n",
       "        0.        ,  0.        ,  0.        ,  0.        ,  0.        ,\n",
       "        0.        ,  0.        ,  0.        ,  0.        ,  0.        ,\n",
       "        0.        ,  0.        ,  0.        ,  0.        ,  0.        ,\n",
       "        0.        ,  0.        ,  0.        ,  0.        ,  0.        ,\n",
       "        0.        ,  0.        ,  0.        ,  0.        ,  0.        ,\n",
       "        0.        ,  0.        ,  0.        ,  0.        ,  0.        ,\n",
       "        0.        ,  0.        ,  0.        ,  0.        ,  0.        ,\n",
       "        0.        ,  0.        ,  0.        ,  0.        ,  0.        ,\n",
       "        0.        ,  0.        ,  0.        ,  0.        ,  0.        ,\n",
       "        0.        ,  0.        ,  0.        ,  0.        ], dtype=float32)"
      ]
     },
     "execution_count": 3,
     "metadata": {},
     "output_type": "execute_result"
    }
   ],
   "source": [
    "mnist.train.images[3]"
   ]
  },
  {
   "cell_type": "markdown",
   "metadata": {},
   "source": [
    "이런 식으로 28X28 = 784 차원의 벡터공간에 element가 0에서 1의 값 사이로 이미지가 구현된 것이다.(0 = 흰색, 1 = 검은색) "
   ]
  },
  {
   "cell_type": "markdown",
   "metadata": {},
   "source": [
    "### 인공뉴런이란?\n",
    "\n",
    "사각형과 원 모양으로 표시된 포인트들이 2차원 평면에 있다. 이럴 때 새로운 포인트 'X' 가 주어지면 이 포인트는 어떤 레이블이 될까?"
   ]
  },
  {
   "cell_type": "markdown",
   "metadata": {},
   "source": [
    "![rnn link](https://tensorflowkorea.files.wordpress.com/2016/05/screen-shot-2016-02-16-at-09-30-14.png)"
   ]
  },
  {
   "cell_type": "markdown",
   "metadata": {},
   "source": [
    "일반적인 근사 방법은 두 그룹을 나누는 라인을 긋고 이를 분류의 기준으로 삼는 것이다."
   ]
  },
  {
   "cell_type": "markdown",
   "metadata": {},
   "source": [
    "![rnn link](https://tensorflowkorea.files.wordpress.com/2016/05/screen-shot-2016-02-16-at-09-30-09.png)"
   ]
  },
  {
   "cell_type": "markdown",
   "metadata": {},
   "source": [
    "이 예에서 입력 데이터는 2차원 공간의 좌표 (x, y)를 갖는 벡터로 표현되고, ‘0’ 또는 ‘1’(직선의 위, 아래)을 리턴하는 함수로 사각형과 원으로 분류하게 된다. \n",
    "\n",
    "수학적으로는 선형 회귀분석 장에서 배운대로 이 ‘라인'(분류기준)은 y = W * x + b 로 쓸 수 있다.\n",
    "\n",
    "일반화해서 말하면 뉴런은 가중치 **W** (입력 데이터 X 와 같은 차원을 가짐)와 오프셋 **b** (bias)를 학습시켜 어떻게 포인트들을 분류하는지를 배운다.\n",
    "\n",
    "이런 방식을 따라 뉴런은 가중치 W 를 사용하여 입력 데이터 X 의 가중치 합을 계산하고 오프셋 b 를 더한다. \n",
    "\n",
    "마지막으로 뉴런은 ‘0’ 또는 ‘1’의 결과로 만들기 위해 비선형 **‘활성화’** 함수를 적용한다."
   ]
  },
  {
   "cell_type": "markdown",
   "metadata": {},
   "source": [
    "![rnn link](https://tensorflowkorea.files.wordpress.com/2016/05/image043.png)"
   ]
  },
  {
   "cell_type": "markdown",
   "metadata": {},
   "source": [
    "시작은 마찬가지로 뉴런에게 레이블된 데이터를 주입하고 얻은 결과를 실제 값과 비교한다. \n",
    "\n",
    "그렇게 반복하면서 저번 시간의 선형 회귀분석에서 본 것 처럼 에러를 최소화하기 위해 가중치 W 와 b 를 조정한다.\n",
    "\n",
    "W와 b parameter를 구해서 가중치 합(W * X + b)를 계산하여 z에 저장된 결과를 '0'또는 '1'로 바꿀 함수가 필요하다. \n",
    "\n",
    "이러한 함수가 '활성화'함수이고, 대표적으로 시그모이드(sigmoid) 함수가 있다."
   ]
  },
  {
   "cell_type": "markdown",
   "metadata": {},
   "source": [
    "![rnn link](https://tensorflowkorea.files.wordpress.com/2016/05/image046.png)"
   ]
  },
  {
   "cell_type": "markdown",
   "metadata": {},
   "source": [
    "![rnn link](https://tensorflowkorea.files.wordpress.com/2016/05/image045.png)"
   ]
  },
  {
   "cell_type": "markdown",
   "metadata": {},
   "source": [
    "위와 같은 과정이 하나의 뉴런에 대하여 정의를 한 것이다. 뉴럴 네트워크는 여러가지 방식으로 연결되어 있고, 각기 다른 활성화 함수를 사용하는 뉴런들을 합쳐놓은 것이다. \n",
    "\n",
    "뉴럴 네트워크의 전형적인 구조는 입력을 받는 하위 레이어(입력 레이어), 결과 값을 내는 상위 레이어(출력 레이어), 그리고 그 사이에 히든(hidden) 레이어라 불리는 여러개의 중간 레이어를 가지는 구조이다."
   ]
  },
  {
   "cell_type": "markdown",
   "metadata": {},
   "source": [
    "![rnn link](https://tensorflowkorea.files.wordpress.com/2016/05/image049.gif?w=625)"
   ]
  },
  {
   "cell_type": "markdown",
   "metadata": {},
   "source": [
    "앞서 이야기한 것 처럼 시그모이드 외에도 각기 다른 특성을 가진 여러가지 활성화 함수가 있다. \n",
    "\n",
    "예를 들면 출력 레이어에서 **두가지 이상**의 클래스로 데이터를 분류하고 싶을 때에는 시그모이드 함수의 일반화된 형태인 소프트맥스(softmax) 활성화 함수를 사용할 수 있다. \n",
    "\n",
    "소프트맥스 함수는 각 클래스(카테고리)에 대한 확률을 만들어낸다. 각 클래스의 확률의 합은 **1** 이고 가장 높은 값을 가진 클래스가 결과 값이 될 가능성이 가장 높다.\n",
    "\n",
    "예를 들어, 결과가 [0.7, 0.2, 0.1] 과 같이 나왔다면 첫번째 값이 제일 크므로 첫번째 클래스에 속할 확률이 높은 것이다.\n",
    "\n",
    "소프트맥스 함수는 두 가지의 주요 단계가 있다. \n",
    "\n",
    "1. 이미지가 어떤 레이블에 속하는 지 근거(evidence)를 계산하는 것이고, \n",
    "\n",
    "2. 근거들을 각 레이블에 대한 확률로 변환하는 것이다."
   ]
  },
  {
   "cell_type": "markdown",
   "metadata": {},
   "source": [
    "### 소프트맥스 함수란?\n",
    "#### 1. 클래스 소속 근거"
   ]
  },
  {
   "cell_type": "markdown",
   "metadata": {},
   "source": [
    "이미지가 어떤 클래스 혹은 레이블에 속하는 지의 근거를 측정하려면 보통 사용하는 방법은 픽셀의 **진한 정도**에 대한 가중치 합을 계산하는 것이다. \n",
    "\n",
    "어떤 클래스 픽셀에는 없는 진한 픽셀이 이미지에 있다면 가중치는 음의 값이 되고, 클래스의 진한 픽셀이 이미지와 자주 겹친다면 가중치는 양의 값이 된다.\n",
    "\n",
    "그림으로 숫자 ‘0’ 을 학습한 모델의 예를 살펴 보자."
   ]
  },
  {
   "cell_type": "markdown",
   "metadata": {},
   "source": [
    "![rnn link](https://tensorflowkorea.files.wordpress.com/2016/05/image050.png)"
   ]
  },
  {
   "cell_type": "markdown",
   "metadata": {},
   "source": [
    "붉은 색은 잘 맞지 않는 부분을 나타내고(즉 ‘0’ 에는 잘 나타나지 않는 픽셀임) 푸른 색은 잘 들어 맞는 부분임을 나타낸다. \n",
    "\n",
    "그래서 푸른 영역에 위치한 픽셀들은 가산점(양의 가중치)을 주고 붉은 영역에 위치한 픽셀들은 페널티(음의 가중치)를 주는 측정 방법이 사용된다.\n",
    "\n",
    "숫자 ‘3’ 을 생각해보자."
   ]
  },
  {
   "cell_type": "markdown",
   "metadata": {},
   "source": [
    "![rnn link](https://tensorflowkorea.files.wordpress.com/2016/05/image052.png)"
   ]
  },
  {
   "cell_type": "markdown",
   "metadata": {},
   "source": [
    "위의 숫자 ‘3’ 모델에  ‘0’ 을 그리면 대부분이 붉은 색 영역 위에 놓일 것이고, 음의 가중치가 많이 주어질 것이다.\n",
    "\n",
    "모델을 수식으로 표현한다면 다음과 같을 것이다."
   ]
  },
  {
   "cell_type": "markdown",
   "metadata": {},
   "source": [
    "![rnn link](https://tensorflowkorea.files.wordpress.com/2016/05/image058.png)"
   ]
  },
  {
   "cell_type": "markdown",
   "metadata": {},
   "source": [
    "![rnn link](https://tensorflowkorea.files.wordpress.com/2016/05/image061.gif?w=625)"
   ]
  },
  {
   "cell_type": "markdown",
   "metadata": {},
   "source": [
    "i 는 클래스(우리 예제에서는 0~9까지 숫자)를 나타내며, j 는 입력 이미지 중 하나를 나타낸다. W는 각 i에 대해 784개(28X28)의 element를 가지는 행렬이다. "
   ]
  },
  {
   "cell_type": "markdown",
   "metadata": {},
   "source": [
    "![rnn link](https://tensorflowkorea.files.wordpress.com/2016/05/image066.png)"
   ]
  },
  {
   "cell_type": "markdown",
   "metadata": {},
   "source": [
    "각각의 X(image, 28X28 matrix)를 784X1의 matrix로 변환시켜준다.*\n",
    "\n",
    "W는 각각의 클래스(0~9, 10개)에 대해 서로 다른 1X784의 matrix를 가지고 있고, 이를 합쳐서 하나의 10X784의 matrix를 구성한다. \n",
    "\n",
    "어떤 X(image)하나가 들어오면 각각의 클래스에 대한 값 W(10X784) * X(784X1) + b 총 10개가 10X1의 결과로 나올 것이고, 각각의 값을 softmax를 통해 가중치로 변환한다. \n",
    "\n",
    "가장 가중치가 높은 클래스(카테고리)가 선택될 것이다.\n",
    "\n",
    "*정사각형의 이미지를 28칸을 기준으로 자른 다음에 옆으로 이어 붙였다고 생각하면 된다."
   ]
  },
  {
   "cell_type": "markdown",
   "metadata": {},
   "source": [
    "#### 2. 클래스 소속 확률 변환"
   ]
  },
  {
   "cell_type": "markdown",
   "metadata": {},
   "source": [
    "![rnn link](https://tensorflowkorea.files.wordpress.com/2016/05/image064.png)"
   ]
  },
  {
   "cell_type": "markdown",
   "metadata": {},
   "source": [
    "소프트 맥스에서 위와 같은 식을 쓰는 이유는 벡터의 원소 즉, 천차만별의 값을 지닌 클래스에 속할 근거를 정규화해주기 위해서이다. \n",
    "\n",
    "예를 들면 어떤 클래스에 속할 근거가 [300, 100, 50]과 같이 매우 다양한 범위를 지닌 값을 [0.7, 0.2, 0.1]과 같이 0에서 1사이의 값으로 바꿔준다.\n",
    "\n",
    "이때 지수 함수를 사용하는데, 가중치가 크다면 더 크게 부풀릴 수 있고 작다면 더 작게 할 수 있기 때문이다. \n",
    "\n",
    "소프트 맥스는 정규화를 통해 weight의 합을 1이 되도록 정규화해줘서 확률 분포를 만들어 준다."
   ]
  },
  {
   "cell_type": "markdown",
   "metadata": {},
   "source": [
    "### 프로그래밍 구현하기"
   ]
  },
  {
   "cell_type": "code",
   "execution_count": 5,
   "metadata": {
    "collapsed": false
   },
   "outputs": [],
   "source": [
    "W = tf.Variable(tf.zeros(shape = [784,10]))\n",
    "b = tf.Variable(tf.zeros(shape = [10]))"
   ]
  },
  {
   "cell_type": "markdown",
   "metadata": {},
   "source": [
    "먼저 가중치 W와 bias b를 저장할 변수 2개를 만들어 준다. \n",
    "\n",
    "이 때 W의 shape이 위의 그림처럼 [10,784]와 다르게 [784,10]인 이유는, 아래의 행렬곱을 matmul(x,W)를 해주기 때문이다. "
   ]
  },
  {
   "cell_type": "code",
   "execution_count": 6,
   "metadata": {
    "collapsed": true
   },
   "outputs": [],
   "source": [
    "x = tf.placeholder(dtype = 'float', shape = [None, 784])\n",
    "y = tf.placeholder(dtype = 'float', shape = [None, 10])"
   ]
  },
  {
   "cell_type": "markdown",
   "metadata": {},
   "source": [
    "x는 MNIST 이미지를 784개의 실수 벡터로 저장한다.\n",
    "\n",
    "y는 MNIST 이미지의 실제 레이블을 저장한다.(0 혹은 1)\n",
    "\n",
    "shape를 None으로 지정한 것은 어떤 사이즈나 가능하다는 것으로, 여기서는 학습 데이터의 개수가 된다."
   ]
  },
  {
   "cell_type": "code",
   "execution_count": 5,
   "metadata": {
    "collapsed": true
   },
   "outputs": [],
   "source": [
    "hypothesis = tf.nn.softmax(tf.matmul(x,W) + b)"
   ]
  },
  {
   "cell_type": "markdown",
   "metadata": {},
   "source": [
    "가중치를 계산하는 모델이다."
   ]
  },
  {
   "cell_type": "code",
   "execution_count": 6,
   "metadata": {
    "collapsed": true
   },
   "outputs": [],
   "source": [
    "cross_entropy = -tf.reduce_sum(y * tf.log(hypothesis))"
   ]
  },
  {
   "cell_type": "markdown",
   "metadata": {},
   "source": [
    "기존의 cost는 MSE*를 주로 사용하였으나, 다양한 cost 함수가 존재한다. 이번에는 그 중에서 cross entropy라는 cost 함수를 사용한다.\n",
    "\n",
    "*micro soft excel말고 mean square error를 뜻한다. 오차 제곱에 대한 평균이다."
   ]
  },
  {
   "cell_type": "markdown",
   "metadata": {},
   "source": [
    "![rnn link](https://tensorflowkorea.files.wordpress.com/2016/05/image068.png)"
   ]
  },
  {
   "cell_type": "markdown",
   "metadata": {},
   "source": [
    "y는 예측된 확률분포이고,  y’은 실제 분포이다. "
   ]
  },
  {
   "cell_type": "markdown",
   "metadata": {},
   "source": [
    "![로그](http://cfile21.uf.tistory.com/image/2603F434579AF9B52A57FA)\n",
    "출처: http://pythonkim.tistory.com/28"
   ]
  },
  {
   "cell_type": "markdown",
   "metadata": {},
   "source": [
    "![cross-entropy](http://cfile23.uf.tistory.com/image/243B804E579806C11E2A8F)\n",
    "출처: http://pythonkim.tistory.com/20"
   ]
  },
  {
   "cell_type": "markdown",
   "metadata": {},
   "source": [
    "(손글씨 이미지와 위 이미지의 식이 조금 다른데 결국 같은 것이니 신경쓰지 않아도 된다.)\n",
    "\n",
    "만약 실제 값(Lable or Y)가 [0, 1]이라고 해보자.*\n",
    "\n",
    "예측값을 [0, 1]이라고 했을 경우와 [1, 0]이라고 했을 경우를 나눠서 생각해보자.\n",
    "\n",
    "Y'= [0, 1]라면,\n",
    "\n",
    "-log(x)에서 x=0일 때 y는 발사하고 x=1일 때 y=0이다.\n",
    "\n",
    "실제값 L과 Y'을 곱하면 [0, 1]*[무한대, 0] = [0, 0] 이고 합은 0이다.\n",
    "\n",
    "L과 Y'가 일치하므로 cost는 0이 되는 것이다.\n",
    "\n",
    "Y' = [1, 0]라면, L과 정반대로 예측한 것이므로 위와 같은 과정을 거쳐 cost는 무한대가 된다.\n",
    "\n",
    "*편의상 그림과 달리 행 벡터로 표현했다."
   ]
  },
  {
   "cell_type": "code",
   "execution_count": 8,
   "metadata": {
    "collapsed": true
   },
   "outputs": [],
   "source": [
    "train_step = tf.train.GradientDescentOptimizer(learning_rate=0.01).minimize(cross_entropy)\n",
    "\n",
    "sess = tf.Session()\n",
    "\n",
    "sess.run(tf.global_variables_initializer())\n",
    "\n",
    "for step in range(20001):\n",
    "    batch_x, batch_y = mnist.train.next_batch(100)\n",
    "    sess.run(train_step, feed_dict = {x:batch_x, y:batch_y})"
   ]
  },
  {
   "cell_type": "markdown",
   "metadata": {},
   "source": [
    "cross_entropy를 최소화 하는 모델 훈련 과정이다."
   ]
  },
  {
   "cell_type": "code",
   "execution_count": 9,
   "metadata": {
    "collapsed": true
   },
   "outputs": [],
   "source": [
    "correct_prediction = tf.equal(tf.argmax(hypothesis,1), tf.argmax(y,1))"
   ]
  },
  {
   "cell_type": "markdown",
   "metadata": {},
   "source": [
    "모델을 평가하는 과정이다. tf.argmax() 함수는 텐서의 차원을 따라 가장 큰 값의 인덱스를 리턴해준다.\n",
    "\n",
    "tf.argmax(hypothesis,1)은 입력 이미지에 대해 계산한 가중치 중에서 가장 높은 확률(값)을 가진 레이블을 반환한다.\n",
    "\n",
    "tf.argmax(y,1)은 입력 이미지에 대해 실제 레이블을 반환한다.(실제 레이블  = 1, 나머지 레이블 = 0)\n",
    "\n",
    "tf.equal()을 통해서 같으면 True, 다르면 False를 반환한다.(boolean 자료형)"
   ]
  },
  {
   "cell_type": "code",
   "execution_count": 10,
   "metadata": {
    "collapsed": true
   },
   "outputs": [],
   "source": [
    "accuracy = tf.reduce_mean(tf.cast(correct_prediction, 'float'))"
   ]
  },
  {
   "cell_type": "markdown",
   "metadata": {},
   "source": [
    "저번 시간에 다룬 tf.cast()이다. tf.cast()는 입력한 자료형을 다른 자료형으로 바꾸어준다.\n",
    "\n",
    "여기에서는 boolean 값을 float 값(0 혹은 1)로 반환해준다.\n",
    "\n",
    "이를 reduce_mean을 통해 0 ~ 1사이의 확률값으로 변환할 수 있다."
   ]
  },
  {
   "cell_type": "code",
   "execution_count": 11,
   "metadata": {
    "collapsed": false
   },
   "outputs": [
    {
     "name": "stdout",
     "output_type": "stream",
     "text": [
      "0.9217\n"
     ]
    }
   ],
   "source": [
    "print(sess.run(accuracy, feed_dict = {x:mnist.test.images, y:mnist.test.labels}))"
   ]
  },
  {
   "cell_type": "markdown",
   "metadata": {},
   "source": [
    "92%의 정확도가 나왔다!"
   ]
  },
  {
   "cell_type": "markdown",
   "metadata": {},
   "source": [
    "## Adam optimizer를 이용한 다른 버전"
   ]
  },
  {
   "cell_type": "code",
   "execution_count": 9,
   "metadata": {
    "collapsed": false
   },
   "outputs": [],
   "source": [
    "hypothesis = tf.matmul(x, W) + b\n",
    "cost = tf.reduce_mean(tf.nn.softmax_cross_entropy_with_logits(logits=hypothesis, labels=y))\n",
    "train = tf.train.AdamOptimizer(learning_rate=0.001).minimize(cost)"
   ]
  },
  {
   "cell_type": "code",
   "execution_count": 13,
   "metadata": {
    "collapsed": true
   },
   "outputs": [],
   "source": [
    "correct_prediction = tf.equal(tf.argmax(hypothesis,1), tf.argmax(y,1))\n",
    "accuracy = tf.reduce_mean(tf.cast(correct_prediction, 'float'))"
   ]
  },
  {
   "cell_type": "code",
   "execution_count": 14,
   "metadata": {
    "collapsed": false
   },
   "outputs": [
    {
     "name": "stdout",
     "output_type": "stream",
     "text": [
      "0.9273\n"
     ]
    }
   ],
   "source": [
    "with tf.Session() as sess:\n",
    "    sess.run(tf.global_variables_initializer())\n",
    "    \n",
    "    for step in range(20001):\n",
    "        batch_x, batch_y = mnist.train.next_batch(100)\n",
    "        sess.run(train, feed_dict = {x:batch_x, y:batch_y})\n",
    "    \n",
    "    print(sess.run(accuracy, feed_dict = {x:mnist.test.images, y:mnist.test.labels}))"
   ]
  },
  {
   "cell_type": "markdown",
   "metadata": {},
   "source": [
    "adam optimizer가 더 정확성이 높다."
   ]
  },
  {
   "cell_type": "code",
   "execution_count": null,
   "metadata": {
    "collapsed": true
   },
   "outputs": [],
   "source": []
  }
 ],
 "metadata": {
  "anaconda-cloud": {},
  "kernelspec": {
   "display_name": "Python [conda env:tensorflow]",
   "language": "python",
   "name": "conda-env-tensorflow-py"
  },
  "language_info": {
   "codemirror_mode": {
    "name": "ipython",
    "version": 3
   },
   "file_extension": ".py",
   "mimetype": "text/x-python",
   "name": "python",
   "nbconvert_exporter": "python",
   "pygments_lexer": "ipython3",
   "version": "3.6.1"
  }
 },
 "nbformat": 4,
 "nbformat_minor": 2
}
